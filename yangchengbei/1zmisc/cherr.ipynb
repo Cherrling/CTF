{
 "cells": [
  {
   "cell_type": "code",
   "execution_count": 1,
   "metadata": {},
   "outputs": [],
   "source": [
    "qianziwen=(\"天地玄黄宇宙洪荒日月盈昃辰宿列张寒来暑往秋收冬藏闰余成岁律吕调阳云腾致雨露结为霜金生丽水玉出昆冈剑号巨阙珠称夜光果珍李柰菜重芥姜海咸河淡鳞潜羽翔龙师火帝鸟官人皇始制文字乃服衣裳推位让国有虞陶唐吊民伐罪周发殷汤坐朝问道垂拱平章爱育黎首臣伏戎羌遐迩一体率宾归王鸣凤在竹白驹食场化被草木赖及万方盖此身发四大五常恭惟鞠养岂敢毁伤女慕贞洁男效才良知过必改得能莫忘罔谈彼短靡恃己长信使可覆器欲难量墨悲丝染诗赞羔羊景行维贤克念作圣德建名立形端表正空谷传声虚堂习听祸因恶积福缘善庆尺璧非宝寸阴是竞资父事君曰严与敬孝当竭力忠则尽命临深履薄夙兴温凊似兰斯馨如松之盛川流不息渊澄取映容止若思言辞安定笃初诚美慎终宜令荣业所基籍甚无竟学优登仕摄职从政存以甘棠去而益咏乐殊贵贱礼别尊卑上和下睦夫唱妇随外受傅训入奉母仪诸姑伯叔犹子比儿孔怀兄弟同气连枝交友投分切磨箴规仁慈隐恻造次弗离节义廉退颠沛匪亏性静情逸心动神疲守真志满逐物意移坚持雅操好爵自縻都邑华夏东西二京背邙面洛浮渭据泾宫殿盘郁楼观飞惊图写禽兽画彩仙灵丙舍旁启甲帐对楹肆筵设席鼓瑟吹笙升阶纳陛弁转疑星右通广内左达承明既集坟典亦聚群英杜稿钟隶漆书壁经府罗将相路侠槐卿户封八县家给千兵高冠陪辇驱毂振缨世禄侈富车驾肥轻策功茂实勒碑刻铭磻溪伊尹佐时阿衡奄宅曲阜微旦孰营桓公匡合济弱扶倾绮回汉惠说感武丁俊乂密勿多士寔宁晋楚更霸赵魏困横假途灭虢践土会盟何遵约法韩弊烦刑起翦颇牧用军最精宣威沙漠驰誉丹青九州禹迹百郡秦并岳宗泰岱禅主云亭雁门紫塞鸡田赤城昆池碣石钜野洞庭旷远绵邈岩岫杳冥治本于农务兹稼穑俶载南亩我艺黍稷税熟贡新劝赏黜陟孟轲敦素史鱼秉直庶几中庸劳谦谨敕聆音察理鉴貌辨色贻厥嘉猷勉其祗植省躬讥诫宠增抗极殆辱近耻林皋幸即两疏见机解组谁逼索居闲处沉默寂寥求古寻论散虑逍遥欣奏累遣戚谢欢招渠荷的历园莽抽条枇杷晚翠梧桐早凋陈根委翳落叶飘摇游鹍独运凌摩绛霄耽读玩市寓目囊箱易輶攸畏属耳垣墙具膳餐饭适口充肠饱饫烹宰饥厌糟糠亲戚故旧老少异粮妾御绩纺侍巾帷房纨扇圆絜银烛炜煌昼眠夕寐蓝笋象床弦歌酒宴接杯举觞矫手顿足悦豫且康嫡后嗣续祭祀烝尝稽颡再拜悚惧恐惶笺牒简要顾答审详骸垢想浴执热愿凉驴骡犊特骇跃超骧诛斩贼盗捕获叛亡布射僚丸嵇琴阮啸恬笔伦纸钧巧任钓释纷利俗并皆佳妙毛施淑姿工颦妍笑年矢每催曦晖朗曜璇玑悬斡晦魄环照指薪修祜永绥吉劭矩步引领俯仰廊庙束带矜庄徘徊瞻眺孤陋寡闻愚蒙等诮谓语助者焉哉乎也\")\n"
   ]
  },
  {
   "cell_type": "code",
   "execution_count": 3,
   "metadata": {},
   "outputs": [
    {
     "name": "stdout",
     "output_type": "stream",
     "text": [
      "丽周夜张张寒岁宰粮丽夜因周夜夜二寒成岁岁岳粮岁宰成张周张夜成寒岁张\n"
     ]
    }
   ],
   "source": [
    "\n",
    "# The sequence of numbers to decode\n",
    "numbers = [43, 101, 55, 16, 16, 1017, 28, 812, 824, 43, 55, 226, 101, 55, 55, 415, 1017, 1027, 28, 28, 617, 824, 28, 812, 1027, 16, 101, 16, 55, 1027, 1017, 28, 16]\n",
    "\n",
    "# Define a function to decode the numbers using 千字文\n",
    "def decode_with_qianziwen(numbers, qianziwen):\n",
    "    decoded_chars = []\n",
    "    for num in numbers:\n",
    "        if 1 <= num <= len(qianziwen):\n",
    "            decoded_chars.append(qianziwen[num - 1])  # Because index in Python starts at 0\n",
    "        else:\n",
    "            # decoded_chars.append('?')  # '?' represents an out-of-range number\n",
    "            decoded_chars.append(qianziwen[num - 1-1000])  # Because index in Python starts at 0\n",
    "            \n",
    "    return ''.join(decoded_chars)\n",
    "\n",
    "# Decoding the given numbers\n",
    "decoded_text = decode_with_qianziwen(numbers, qianziwen)\n",
    "print(decoded_text)\n"
   ]
  },
  {
   "cell_type": "code",
   "execution_count": 5,
   "metadata": {},
   "outputs": [],
   "source": [
    "riqi=[4.3,10.1,5.5,1.6,1.6,10.17,2.8,8.12,8.24,4.3,5.5,2.26,10.1,5.5,5.5,4.15,10.17,10.27,2.8,2.8,6.17,8.24,2.8,8.12,10.27,1.6,10.1,1.6,5.5,10.27,10.17,2.8,1.6]"
   ]
  },
  {
   "cell_type": "code",
   "execution_count": 6,
   "metadata": {},
   "outputs": [
    {
     "name": "stdout",
     "output_type": "stream",
     "text": [
      "卯氐酉角辰心子尾子尾酉胃丑井未张未女卯氐辰心丑危酉角辰心辰心卯奎酉胃酉室丑井丑井巳胃未女丑井未张酉室子尾酉角子尾辰心酉室酉胃丑井子尾\n",
      "\n",
      "卯酉辰子子酉丑未未卯辰丑酉辰辰卯酉酉丑丑巳未丑未酉子酉子辰酉酉丑子氐角心尾尾胃井张女氐心危角心心奎胃室井井胃女井张室尾角尾心室胃井尾"
     ]
    }
   ],
   "source": [
    "dizhi=\"子丑寅卯辰巳午未申酉戌亥\"\n",
    "xingxiu=\"角亢氐房心尾箕井鬼柳星张翼轸奎娄胃昂毕觜参斗牛女虚危室壁\"\n",
    "#写一个循环，遍历由28个字组成的33位\n",
    "\n",
    "for i in riqi:\n",
    "    #将i转换为字符串，然后将字符串分割为两部分\n",
    "    tmp=str(i).split(\".\")\n",
    "    print(dizhi[int(tmp[0])-1]+xingxiu[int(tmp[1])-1],end=\"\")\n",
    "print('\\n')\n",
    "#卯氐酉角辰心子尾子尾酉胃丑井未张未女卯氐辰心丑危酉角辰心辰心卯奎酉胃酉室丑井丑井巳胃未女丑井未张酉室子尾酉角子尾辰心酉室酉胃丑井子尾\n",
    "for i in riqi:\n",
    "    #将i转换为字符串，然后将字符串分割为两部分\n",
    "    tmp=str(i).split(\".\")\n",
    "    print(dizhi[int(tmp[0])-1],end=\"\")\n",
    "for i in riqi:\n",
    "    #将i转换为字符串，然后将字符串分割为两部分\n",
    "    tmp=str(i).split(\".\")\n",
    "    print(xingxiu[int(tmp[1])-1],end=\"\")\n",
    "#卯酉辰子子酉丑未未卯辰丑酉辰辰卯酉酉丑丑巳未丑未酉子酉子辰酉酉丑子氐角心尾尾胃井张女氐心危角心心奎胃室井井胃女井张室尾角尾心室胃井尾\n"
   ]
  },
  {
   "cell_type": "code",
   "execution_count": 7,
   "metadata": {},
   "outputs": [
    {
     "name": "stdout",
     "output_type": "stream",
     "text": [
      "131003022110311133002202303013300\n",
      "\n",
      "112111222122122111220222111121121\n",
      "\n",
      "东西东北北西北南南东东北西东东东西西北北南南北南西北西北东西西北北\n",
      "\n",
      "东东南东东东南南南东南南东南南东东东南南北南南南东东东东南东东南东\n",
      "\n",
      "北北西北北北西西西北西西北西西北北北西西东西西西北北北北西北北西北\n",
      "\n",
      "北南北东东南东西西北北东南北北北南南东东西西东西南东南东北南南东东\n",
      "\n",
      "000002113003000223112311300003210\n",
      "\n",
      "315663153355155136113315661656316"
     ]
    }
   ],
   "source": [
    "dnxb1=\"北东南西\"\n",
    "dnxb2=\"东北西南\"\n",
    "for i in riqi:\n",
    "    #将i转换为字符串，然后将字符串分割为两部分\n",
    "    tmp=str(i).split(\".\")\n",
    "    print(int(tmp[0])//3,end=\"\")\n",
    "print('\\n')\n",
    "for i in riqi:\n",
    "    #将i转换为字符串，然后将字符串分割为两部分\n",
    "    tmp=str(i).split(\".\")    \n",
    "    print(int(tmp[0])%3,end=\"\")\n",
    "print('\\n')\n",
    "for i in riqi:\n",
    "    #将i转换为字符串，然后将字符串分割为两部分\n",
    "    tmp=str(i).split(\".\")    \n",
    "    print(dnxb1[int(tmp[0])//3],end=\"\")\n",
    "print('\\n')\n",
    "for i in riqi:\n",
    "    #将i转换为字符串，然后将字符串分割为两部分\n",
    "    tmp=str(i).split(\".\")    \n",
    "    print(dnxb1[int(tmp[0])%3],end=\"\")\n",
    "print('\\n')\n",
    "for i in riqi:\n",
    "    #将i转换为字符串，然后将字符串分割为两部分\n",
    "    tmp=str(i).split(\".\")    \n",
    "    print(dnxb2[int(tmp[0])%3],end=\"\")\n",
    "print('\\n')\n",
    "for i in riqi:\n",
    "    #将i转换为字符串，然后将字符串分割为两部分\n",
    "    tmp=str(i).split(\".\")    \n",
    "    print(dnxb2[int(tmp[0])//3],end=\"\")\n",
    "    \n",
    "\n",
    "print('\\n')\n",
    "for i in riqi:\n",
    "    #将i转换为字符串，然后将字符串分割为两部分\n",
    "    tmp=str(i).split(\".\")\n",
    "    print(int(tmp[1])//7,end=\"\")\n",
    "print('\\n')\n",
    "for i in riqi:\n",
    "    #将i转换为字符串，然后将字符串分割为两部分\n",
    "    tmp=str(i).split(\".\")\n",
    "    print(int(tmp[1])%7,end=\"\")\n",
    "\n",
    "\n",
    "    \n"
   ]
  }
 ],
 "metadata": {
  "kernelspec": {
   "display_name": "Python 3",
   "language": "python",
   "name": "python3"
  },
  "language_info": {
   "codemirror_mode": {
    "name": "ipython",
    "version": 3
   },
   "file_extension": ".py",
   "mimetype": "text/x-python",
   "name": "python",
   "nbconvert_exporter": "python",
   "pygments_lexer": "ipython3",
   "version": "3.12.5"
  }
 },
 "nbformat": 4,
 "nbformat_minor": 2
}
