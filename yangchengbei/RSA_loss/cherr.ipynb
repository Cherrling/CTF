{
 "cells": [
  {
   "cell_type": "code",
   "execution_count": null,
   "metadata": {},
   "outputs": [],
   "source": [
    "from Crypto.Util.number import *\n",
    "from gmpy2 import *\n",
    "m = bytes_to_long(b\"DASCTF{aaaaaaaaaaaaaaaaaaaaaaaaaa}\")\n",
    "\n",
    "p = 898278915648707936019913202333\n",
    "q = 814090608763917394723955024893\n",
    "n = p*q\n",
    "m1 = m % n\n",
    "# m1 = bytes_to_long(b'X\\xee\\x1ey\\x88\\x01dX\\xf6i\\x91\\x80h\\xf4\\x1f!\\xa7\"\\x0c\\x9a\\x06\\xc8\\x06\\x81\\x15')\n",
    "tmh = bytes_to_long(b'DASCTF{')\n",
    "base = 256 * 256 \n",
    "for j in range(base):\n",
    "    mh = tmh * base + j \n",
    "    # print(mh)\n",
    "    for i in range(25,26):\n",
    "        # print(i)\n",
    "        ml_mhi = m1 * pow(mh,-1,n) - pow(2,i*8,n)\n",
    "        ml_mhi %= n\n",
    "        ml = ml_mhi * mh % n\n",
    "        ml = int(ml)\n",
    "        ml = crt([ml,125],[n,256])\n",
    "        res = long_to_bytes(ml)\n",
    "        find = True\n",
    "        for b in res:\n",
    "            if b > 128:\n",
    "                find = False\n",
    "        if(find):\n",
    "            print(i)\n",
    "            print(j)\n",
    "            print(res)"
   ]
  }
 ],
 "metadata": {
  "language_info": {
   "name": "python"
  }
 },
 "nbformat": 4,
 "nbformat_minor": 2
}
