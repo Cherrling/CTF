{
 "cells": [
  {
   "cell_type": "code",
   "execution_count": null,
   "metadata": {},
   "outputs": [
    {
     "name": "stdout",
     "output_type": "stream",
     "text": [
      "6WLMmh8BhifnSNplstaZ\n",
      "|    sha256(XXXX + mh8BhifnSNplstaZ) == 36e1e53f26971d1cf1f73a70fc07dca39c7b6a9d79f3d49ea641720e4755b88d\n",
      "9999\n"
     ]
    }
   ],
   "source": [
    "\n",
    "\n",
    "import secrets, signal\n",
    "from utils import nbit, LFSR, NFSR, NOISE\n",
    "import random, string, hashlib\n",
    "\n",
    "\n",
    "\n",
    "orish='094f500446fc9eee8e0a140ceab574af2b67a9536a1613039dfda495cd0b226a'\n",
    "\n",
    "def stradd(str,i):\n",
    "    if i < len(string.ascii_letters):\n",
    "        return string.ascii_letters[i]+str\n",
    "    else:\n",
    "        return string.digits[i-len(string.ascii_letters)]+str\n",
    "    \n",
    "    \n",
    "\n",
    "b='mh8BhifnSNplstaZ'\n",
    "\n",
    "for i in range(len(string.ascii_letters)+len(string.digits)):\n",
    "    for j in range(len(string.ascii_letters)+len(string.digits)):\n",
    "        for k in range(len(string.ascii_letters)+len(string.digits)):\n",
    "            for l in range(len(string.ascii_letters)+len(string.digits)):\n",
    "                ss=b\n",
    "                ss=stradd(ss,l)\n",
    "                ss=stradd(ss,k)\n",
    "                ss=stradd(ss,j)\n",
    "                ss=stradd(ss,i)\n",
    "                sh = hashlib.sha256(ss.encode()).hexdigest()\n",
    "                if sh == orish:\n",
    "                    print(ss)\n",
    "                    break\n",
    "                \n",
    "\n",
    "\n",
    "\n",
    "\n",
    "sh = hashlib.sha256(ss.encode()).hexdigest()\n",
    "print(f\"|    sha256(XXXX + {ss[4:]}) == {sh}\")\n",
    "print(ss[:4])"
   ]
  },
  {
   "cell_type": "code",
   "execution_count": 6,
   "metadata": {},
   "outputs": [
    {
     "name": "stdout",
     "output_type": "stream",
     "text": [
      "|    sha256(XXXX + mh8BhifnSNplstaZ) == 094f500446fc9eee8e0a140ceab574af2b67a9536a1613039dfda495cd0b226a\n",
      "6WLM\n"
     ]
    }
   ],
   "source": [
    "\n",
    "b='mh8BhifnSNplstaZ'\n",
    "ss='6WLM'+b\n",
    "\n",
    "sh = hashlib.sha256(ss.encode()).hexdigest()\n",
    "print(f\"|    sha256(XXXX + {ss[4:]}) == {sh}\")\n",
    "print(ss[:4])"
   ]
  }
 ],
 "metadata": {
  "kernelspec": {
   "display_name": "Python 3",
   "language": "python",
   "name": "python3"
  },
  "language_info": {
   "codemirror_mode": {
    "name": "ipython",
    "version": 3
   },
   "file_extension": ".py",
   "mimetype": "text/x-python",
   "name": "python",
   "nbconvert_exporter": "python",
   "pygments_lexer": "ipython3",
   "version": "3.12.5"
  }
 },
 "nbformat": 4,
 "nbformat_minor": 2
}
