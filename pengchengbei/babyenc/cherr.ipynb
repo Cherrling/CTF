{
 "cells": [
  {
   "cell_type": "code",
   "execution_count": null,
   "metadata": {},
   "outputs": [
    {
     "name": "stdout",
     "output_type": "stream",
     "text": [
      "exgcd_result: (-6, 7, 1)\n"
     ]
    },
    {
     "ename": "OverflowError",
     "evalue": "int too large to convert to float",
     "output_type": "error",
     "traceback": [
      "\u001b[1;31m---------------------------------------------------------------------------\u001b[0m",
      "\u001b[1;31mOverflowError\u001b[0m                             Traceback (most recent call last)",
      "Cell \u001b[1;32mIn[8], line 14\u001b[0m\n\u001b[0;32m     12\u001b[0m \u001b[38;5;28mprint\u001b[39m(\u001b[38;5;124mf\u001b[39m\u001b[38;5;124m\"\u001b[39m\u001b[38;5;124mexgcd_result: \u001b[39m\u001b[38;5;132;01m{\u001b[39;00mexgcd_result\u001b[38;5;132;01m}\u001b[39;00m\u001b[38;5;124m\"\u001b[39m)\n\u001b[0;32m     13\u001b[0m \u001b[38;5;28;01massert\u001b[39;00m exgcd_result[\u001b[38;5;241m0\u001b[39m] \u001b[38;5;241m*\u001b[39m e[\u001b[38;5;241m0\u001b[39m] \u001b[38;5;241m+\u001b[39m exgcd_result[\u001b[38;5;241m1\u001b[39m] \u001b[38;5;241m*\u001b[39m e[\u001b[38;5;241m1\u001b[39m] \u001b[38;5;241m==\u001b[39m exgcd_result[\u001b[38;5;241m2\u001b[39m]\n\u001b[1;32m---> 14\u001b[0m tmp \u001b[38;5;241m=\u001b[39m \u001b[43mc1\u001b[49m\u001b[43m[\u001b[49m\u001b[38;5;241;43m0\u001b[39;49m\u001b[43m]\u001b[49m\u001b[38;5;241;43m*\u001b[39;49m\u001b[38;5;241;43m*\u001b[39;49m\u001b[43mexgcd_result\u001b[49m\u001b[43m[\u001b[49m\u001b[38;5;241;43m0\u001b[39;49m\u001b[43m]\u001b[49m\u001b[43m \u001b[49m\u001b[38;5;241;43m*\u001b[39;49m\u001b[43m \u001b[49m\u001b[43mc1\u001b[49m\u001b[43m[\u001b[49m\u001b[38;5;241;43m1\u001b[39;49m\u001b[43m]\u001b[49m\u001b[38;5;241;43m*\u001b[39;49m\u001b[38;5;241;43m*\u001b[39;49m\u001b[43mexgcd_result\u001b[49m\u001b[43m[\u001b[49m\u001b[38;5;241;43m1\u001b[39;49m\u001b[43m]\u001b[49m\n\u001b[0;32m     15\u001b[0m \u001b[38;5;66;03m# tmp = pow(c1[0], exgcd_result[0]) * pow(c1[1], exgcd_result[1])\u001b[39;00m\n\u001b[0;32m     16\u001b[0m tmp\n",
      "\u001b[1;31mOverflowError\u001b[0m: int too large to convert to float"
     ]
    }
   ],
   "source": [
    "c1 = [304054249108643319766233669970696347228113825299195899223597844657873869914715629219753150469421333712176994329969288126081851180518874300706117, 300569071066351295347178153438463983525013294497692191767264949606466706307039662858235919677939911290402362961043621463108147721176372907055224, 294806502799305839692215402958402593834563343055375943948669528217549597192296955202812118864208602813754722206211899285974414703769561292993531, 255660645085871679396238463457546909716172735210300668843127008526613931533718130479441396195102817055073131304413673178641069323813780056896835, 194084621856364235027333699558487834531380222896709707444060960982448111129722327145131992393643001072221754440877491070115199839112376948773978]\n",
    "e = [43, 37, 53, 61, 59]\n",
    "# 求 e1 和 e2 的扩展欧几里得算法\n",
    "def exgcd(a, b):\n",
    "    if b == 0:\n",
    "        return 1, 0, a\n",
    "    x, y, q = exgcd(b, a % b)\n",
    "    x, y = y, x - a // b * y\n",
    "    return x, y, q\n",
    "\n",
    "exgcd_result = exgcd(e[0], e[1])\n",
    "print(f\"exgcd_result: {exgcd_result}\")\n",
    "assert exgcd_result[0] * e[0] + exgcd_result[1] * e[1] == exgcd_result[2]\n",
    "# tmp = c1[0]**exgcd_result[0] * c1[1]**exgcd_result[1]\n",
    "tmp = pow(c1[0], exgcd_result[0]) * pow(c1[1], exgcd_result[1])\n",
    "print(f\"tmp: {tmp}\")\n",
    "\n"
   ]
  },
  {
   "cell_type": "code",
   "execution_count": 1,
   "metadata": {},
   "outputs": [
    {
     "name": "stdout",
     "output_type": "stream",
     "text": [
      "149691910197773828108830392166441215438621697193059\n",
      "b'flag{3e99c26b-efdd-4c'\n",
      "0b110011001101100011000010110011101111011001100110110010100111001001110010110001100110010001101100110001000101101011001010110011001100100011001000010110100110100011000110000000000000000000000000000000000000000000000000000000000000000000000000000000000000000000000000000000000000000000000000000000000000000000000000000000000000000000000000000000000000000000000000000000000000000000000000000000000000000000000000000000000000000000000000000000000000000000000000000000000000111110101\n"
     ]
    }
   ],
   "source": [
    "\n",
    "n=312246073793634738336797238973383686069608357320504281244915809376146746877615304143136570336999218383069369602336776078145547720220248077500917\n",
    "\n",
    "m = (n >> 310)\n",
    "\n",
    "print(m)\n",
    "\n",
    "from Crypto.Util.number import *\n",
    "\n",
    "flag1 = long_to_bytes(m)\n",
    "print(flag1)\n",
    "# 以二进制打印出来\n",
    "print(bin(n))\n"
   ]
  },
  {
   "cell_type": "code",
   "execution_count": null,
   "metadata": {},
   "outputs": [
    {
     "name": "stdout",
     "output_type": "stream",
     "text": [
      "b'd2-bbe5-1420eaaa3b30}'\n"
     ]
    }
   ],
   "source": [
    "from Crypto.Util.number import *\n",
    "\n",
    "m=146436625375651639081292195233290471195543268962429\n",
    "flag2 = long_to_bytes(m)\n",
    "print(flag2)"
   ]
  }
 ],
 "metadata": {
  "kernelspec": {
   "display_name": "Python 3",
   "language": "python",
   "name": "python3"
  },
  "language_info": {
   "codemirror_mode": {
    "name": "ipython",
    "version": 3
   },
   "file_extension": ".py",
   "mimetype": "text/x-python",
   "name": "python",
   "nbconvert_exporter": "python",
   "pygments_lexer": "ipython3",
   "version": "3.12.5"
  }
 },
 "nbformat": 4,
 "nbformat_minor": 2
}
