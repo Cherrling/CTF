{
 "cells": [
  {
   "cell_type": "code",
   "execution_count": null,
   "metadata": {},
   "outputs": [],
   "source": [
    "S = [624073892368439332713131144655355187273652775732037030273908973687487472640419, 1129513550732743550887354593625951854836036688324123410864182971141396110133306, 1117643028354341949186759218964558582164677605237787761003042032239935547551873, 151619055620013230556169740951169935393567570823439146992800622058967940011364, 596106506159944398847755500086869373163910176213091804211992440336880292610397, 685472210701608040945173323626153641749419080165879222271110177606156013942182]\n",
    "V = [100024809269721744282017864103544473542698741247649693420201028956644193231147, 85493218764912449360009112267171851264674952927507787108286827385372626006804, 75451455656190167222034904545925816909383290106210237096763781707294423744719, 1864420400658866895837249178680154965580281261003086054650703872439476331244, 111069754111223622246512532174936637994215526100226395068812327641951277359169, 88031405587803201423744918486788030404029698214504194443110805396831023823738]\n",
    "n = 1497114501625523578039715607844306226528709444454126120151416887663514076507099\n",
    "    # return encrypted_parts, multipliers, modulus\n"
   ]
  },
  {
   "cell_type": "code",
   "execution_count": null,
   "metadata": {},
   "outputs": [],
   "source": [
    "b=[]\n",
    "\n",
    "for i in range(6):\n",
    "    b.append((S[i] - V[i] * X) % n)"
   ]
  },
  {
   "cell_type": "code",
   "execution_count": null,
   "metadata": {},
   "outputs": [],
   "source": [
    "def extended_gcd(a, b):\n",
    "    \"\"\"扩展欧几里得算法，返回 gcd(a, b) 和 x, y 使得 ax + by = gcd(a, b)\"\"\"\n",
    "    if a == 0:\n",
    "        return b, 0, 1\n",
    "    gcd, x1, y1 = extended_gcd(b % a, a)\n",
    "    x = y1 - (b // a) * x1\n",
    "    y = x1\n",
    "    return gcd, x, y\n",
    "\n",
    "def mod_inverse(a, m):\n",
    "    \"\"\"计算 a 在模 m 下的逆元\"\"\"\n",
    "    gcd, x, _ = extended_gcd(a, m)\n",
    "    if gcd != 1:\n",
    "        raise ValueError(f\"{a} 和 {m} 不互质，无法求逆元\")\n",
    "    return x % m\n",
    "\n",
    "def solve_congruences(a, b, y, N):\n",
    "    \"\"\"求解线性同余方程组 a_i * x + b_i ≡ y_i (mod N)\"\"\"\n",
    "    x_values = []\n",
    "    moduli = []\n",
    "\n",
    "    for i in range(len(a)):\n",
    "        # 重写方程为 a_i * x ≡ (y_i - b_i) (mod N)\n",
    "        c_i = (y[i] - b[i]) % N\n",
    "        a_i = a[i]\n",
    "\n",
    "        # 计算 a_i 的逆元\n",
    "        inv_a_i = mod_inverse(a_i, N)\n",
    "        x_i = (inv_a_i * c_i) % N\n",
    "\n",
    "        x_values.append(x_i)\n",
    "        moduli.append(N)\n",
    "\n",
    "    # 使用中国剩余定理组合解\n",
    "    return chinese_remainder_theorem(x_values, moduli)\n",
    "\n",
    "def chinese_remainder_theorem(x, m):\n",
    "    \"\"\"中国剩余定理\"\"\"\n",
    "    total = 0\n",
    "    prod = 1\n",
    "    for modulus in m:\n",
    "        prod *= modulus\n",
    "\n",
    "    for xi, mi in zip(x, m):\n",
    "        p = prod // mi\n",
    "        total += xi * p * mod_inverse(p, mi)\n",
    "\n",
    "    return total % prod\n",
    "\n",
    "\n",
    "\n",
    "# 示例输入\n",
    "a = V\n",
    "b = [3, 1, 2, 4, 5, 6]\n",
    "y = S\n",
    "N = n\n",
    "\n",
    "# 求解\n",
    "try:\n",
    "    solution = solve_congruences(a, b, y, N)\n",
    "    print(f\"解 x = {solution}\")\n",
    "except ValueError as e:\n",
    "    print(e)\n"
   ]
  }
 ],
 "metadata": {
  "language_info": {
   "name": "python"
  }
 },
 "nbformat": 4,
 "nbformat_minor": 2
}
