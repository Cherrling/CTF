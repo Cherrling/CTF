{
 "cells": [
  {
   "cell_type": "code",
   "execution_count": 3,
   "metadata": {},
   "outputs": [],
   "source": [
    "from sympy import Mod, Integer\n",
    "from sympy.core.numbers import mod_inverse\n",
    "\n",
    "# 模数\n",
    "N_HEX = \"FFFFFFFEFFFFFFFFFFFFFFFFFFFFFFFF7203DF6B21C6052B53BBF40939D54123\"\n",
    "MODULUS = Integer(int(N_HEX, 16))\n",
    "MSG_PREFIX = \"CryptoCup message:\"\n"
   ]
  },
  {
   "cell_type": "code",
   "execution_count": 4,
   "metadata": {},
   "outputs": [],
   "source": [
    "# 加密函数\n",
    "def encrypt_message(message, key):\n",
    "    # 添加前缀\n",
    "    message_with_prefix = MSG_PREFIX + message\n",
    "    message_bytes = message_with_prefix.encode('utf-8')\n",
    "    message_len = len(message_bytes)\n",
    "    num_blocks = (message_len + 15) // 16\n",
    "    blocks = [message_bytes[i * 16:(i + 1) * 16] for i in range(num_blocks)]\n",
    "\n",
    "    # 进行0填充\n",
    "    blocks[-1] = blocks[-1].ljust(16, b'\\x00')\n",
    "    \n",
    "    print(blocks)\n",
    "\n",
    "    encrypted_blocks = []\n",
    "\n",
    "    k = key\n",
    "\n",
    "    # 加密每个分组\n",
    "    for block in blocks:\n",
    "        block_int = int.from_bytes(block, byteorder='big')\n",
    "        encrypted_block_int = Mod(block_int * k, MODULUS)\n",
    "        encrypted_blocks.append(encrypted_block_int)\n",
    "        k += 1  # 密钥自增1\n",
    "\n",
    "    # 将加密后的分组连接成最终的密文\n",
    "    encrypted_message = b''.join(\n",
    "        int(block_int).to_bytes(32, byteorder='big') for block_int in encrypted_blocks\n",
    "    )\n",
    "\n",
    "    return encrypted_message"
   ]
  },
  {
   "cell_type": "code",
   "execution_count": 5,
   "metadata": {},
   "outputs": [],
   "source": [
    "# 解密函数\n",
    "def decrypt_message(encrypted_message, key):\n",
    "    num_blocks = len(encrypted_message) // 32\n",
    "    blocks = [encrypted_message[i * 32:(i + 1) * 32] for i in range(num_blocks)]\n",
    "\n",
    "    decrypted_blocks = []\n",
    "\n",
    "    k = key\n",
    "\n",
    "    # 解密每个分组\n",
    "    for block in blocks:\n",
    "        block_int = int.from_bytes(block, byteorder='big')\n",
    "        key_inv = mod_inverse(k, MODULUS)\n",
    "        decrypted_block_int = Mod(block_int * key_inv, MODULUS)\n",
    "        decrypted_blocks.append(decrypted_block_int)\n",
    "        k += 1  # 密钥自增1\n",
    "\n",
    "    # 将解密后的分组连接成最终的明文\n",
    "    decrypted_message = b''.join(\n",
    "        int(block_int).to_bytes(16, byteorder='big') for block_int in decrypted_blocks\n",
    "    )\n",
    "\n",
    "    # 去除前缀\n",
    "    if decrypted_message.startswith(MSG_PREFIX.encode('utf-8')):\n",
    "        decrypted_message = decrypted_message[len(MSG_PREFIX):]\n",
    "\n",
    "    return decrypted_message.rstrip(b'\\x00').decode('utf-8')\n"
   ]
  },
  {
   "cell_type": "code",
   "execution_count": 6,
   "metadata": {},
   "outputs": [
    {
     "name": "stdout",
     "output_type": "stream",
     "text": [
      "Original Message: Hello, this is a test message.\n"
     ]
    }
   ],
   "source": [
    "# 测试\n",
    "initial_key = Integer(0x123456789ABCDEF0123456789ABCDEF0123456789ABCDEF0123456789ABCDEF0)\n",
    "message = \"Hello, this is a test message.\"\n",
    "print(\"Original Message:\", message)\n",
    "\n",
    "\n"
   ]
  },
  {
   "cell_type": "code",
   "execution_count": 7,
   "metadata": {},
   "outputs": [
    {
     "name": "stdout",
     "output_type": "stream",
     "text": [
      "[b'CryptoCup messag', b'e:Hello, this is', b' a test message.']\n",
      "Encrypted Message (hex): 534ed400954f43256f50e9224595608726b3f016f8cece29ad868085526be54b1449d8eb3400703f429ae51b9675ce74aa8548240f176fe65b4ae4632f00eb157d852e4662abbb84a8a8914519beca68dbd6c138283a67d2b677c148ad396006\n"
     ]
    }
   ],
   "source": [
    "# 加密\n",
    "encrypted_message = encrypt_message(message, initial_key)\n",
    "print(\"Encrypted Message (hex):\", encrypted_message.hex())\n"
   ]
  },
  {
   "cell_type": "code",
   "execution_count": null,
   "metadata": {},
   "outputs": [],
   "source": [
    "\n",
    "# 解密\n",
    "decrypted_message = decrypt_message(encrypted_message, initial_key)\n",
    "print(\"Decrypted Message:\", decrypted_message)"
   ]
  }
 ],
 "metadata": {
  "kernelspec": {
   "display_name": "Python 3",
   "language": "python",
   "name": "python3"
  },
  "language_info": {
   "codemirror_mode": {
    "name": "ipython",
    "version": 3
   },
   "file_extension": ".py",
   "mimetype": "text/x-python",
   "name": "python",
   "nbconvert_exporter": "python",
   "pygments_lexer": "ipython3",
   "version": "3.12.5"
  }
 },
 "nbformat": 4,
 "nbformat_minor": 2
}
