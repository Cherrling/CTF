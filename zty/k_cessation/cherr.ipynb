{
 "cells": [
  {
   "cell_type": "code",
   "execution_count": 2,
   "metadata": {},
   "outputs": [],
   "source": [
    "from typing import List,Union,Literal\n",
    "from Crypto.Util.number import long_to_bytes\n",
    "import secrets\n",
    "import random,string,re\n",
    "\n",
    "ori_cipher=[2, 1, 1, 3, 1, 1, 3, 2, 1, 4, 1, 2, 3, 1, 1, 1, 2, 1, 1, 2, 2, 2, 1, 3, 1, 6, 1, 1, 4, 1, 1, 1, 1, 1, 1, 1, 1, 2, 1, 2, 1, 1, 3, 3, 2, 1, 1, 3, 1, 1, 1, 3, 4, 1, 3, 1, 2, 2, 4, 2, 5, 1, 1, 1, 3, 2, 1, 4, 2, 2, 1, 2, 1, 3, 1, 1, 1, 1, 1, 2, 3, 1, 2, 1, 1, 1, 1, 3, 4, 1, 2, 2, 4, 2, 5, 1, 2, 1, 2, 2, 1, 4, 1, 2, 1, 2, 1, 1, 1, 1, 1, 1, 2, 2, 1, 4, 3, 1, 2, 1, 3, 1, 3, 3, 2, 1, 3, 1, 6, 2, 1, 1, 2, 1, 2, 1, 3, 1, 1, 2, 1, 2, 1, 1, 2, 1, 2, 2, 2, 3, 1, 1, 4, 1, 3, 1, 1, 1, 2, 1, 1, 2, 4, 1, 1, 5, 2, 4, 2, 2, 1, 1, 1, 2, 1, 1, 1, 2, 1, 3, 3, 1, 1, 1, 1, 1, 2, 1, 2, 3, 1, 1, 2, 1, 1, 2, 1, 2, 1, 2, 1, 1, 1, 2, 5, 1, 1, 1, 3, 1, 1, 2, 3, 1, 2, 2, 2, 1, 3, 3, 1, 1, 2, 1, 1, 4, 3, 1, 3, 4, 1, 1, 1, 2, 1, 3, 1, 6, 1, 2, 1, 1, 3, 2, 3, 1, 2, 2, 1, 3, 2, 1, 2, 2, 2, 3, 3, 3, 1, 1, 2, 4, 1, 1, 1, 1, 1, 4, 2, 1, 4, 1, 2, 3, 2, 1, 1, 1, 2, 1, 1, 1, 2, 1, 3, 2, 1, 2, 1, 1, 1, 4, 3, 1, 1, 1, 1, 1, 1, 1, 1, 1, 1, 1, 3, 2, 4, 2, 1, 4, 2, 4, 2, 2, 3, 1, 2, 2, 2, 1, 3, 3, 1, 2, 1, 1, 1, 1, 3, 3, 1, 3, 1, 1, 1, 1, 3, 1, 1, 4, 2, 5, 2, 1, 3, 1, 1, 2, 3, 1, 2, 2, 1, 1, 1, 1, 1, 1, 3, 1, 2, 1, 3, 1, 2, 3, 4, 4, 3, 2, 4, 2, 1, 4, 2, 4, 1, 2, 1, 3, 1, 2, 1, 1, 1, 3, 2, 1, 2, 2, 2, 3, 3, 1, 2, 1, 3, 1, 1, 1, 2, 1, 3, 4, 2, 1, 4, 1, 2, 1, 2, 2, 2, 1, 1, 2, 1, 1, 2, 2, 2, 1, 4, 2, 1, 4, 1, 1, 1, 1, 2, 4, 4, 3, 2, 4, 2, 1, 1, 1, 1, 1, 1, 1, 4, 2, 2, 3, 1, 1, 1, 2, 1, 3, 1, 4, 1, 2, 4, 1, 2, 3, 4, 1, 3, 1, 1, 1, 2, 4, 1, 1, 1, 4, 1, 1, 4, 2, 1, 4, 2, 2, 1, 1, 1, 1, 1, 2, 3, 2, 1, 4, 3, 3, 4, 4, 3, 2, 4, 2, 1, 1, 3, 2, 4, 1, 1, 2, 3, 1, 1, 1, 2, 2, 1, 1, 1, 1, 3, 1, 1, 1, 4, 3, 3, 1, 1, 2, 1, 1, 1, 1, 3, 1, 1, 4, 2, 5, 1, 1, 4, 2, 1, 1, 1, 1, 1, 1, 2, 2, 2, 1, 1, 2, 1, 2, 1, 2, 4, 3, 1, 1, 1, 1, 3, 4, 3, 1, 1, 4, 1, 6, 2, 1, 1, 1, 3, 1, 1, 3, 1, 2, 1, 1, 1, 1, 1, 1, 1, 1, 1, 1, 1, 2, 1, 4, 3, 1, 1, 5, 4, 1, 2, 2, 4, 1, 6, 1, 2, 1, 1, 3, 1, 4, 1, 2, 1, 2, 1, 1, 1, 1, 4, 2, 2, 3, 1, 2, 3, 1, 3, 4, 1, 1, 3, 4, 2, 5, 1, 1, 1, 3, 2, 2, 3, 2, 1, 2, 2, 2, 2, 3, 1, 2, 1, 3, 3, 3, 1, 1, 2, 1, 3, 3, 1, 1, 4, 2, 5, 2, 4, 1, 2, 4, 1, 2, 1, 2, 1, 1, 1, 2, 3, 1, 2, 4, 1, 1, 4, 4, 1, 1, 2, 3, 2, 4, 2, 5, 1, 2, 1, 2, 1, 1, 2, 3, 1, 2, 1, 2, 1, 1, 3, 1, 1, 2, 1, 2, 3, 1, 1, 1, 3, 4, 1, 1, 2, 1, 1, 1, 2, 4, 2, 1, 1, 3, 1, 2, 1, 2, 2, 2, 1, 2, 2, 1, 1, 1, 2, 1, 3, 1, 1, 2, 1, 2, 3, 1, 1, 1, 3, 4, 1, 1, 2, 3, 1, 2, 3, 1, 6, 2, 1, 3, 1, 1, 1, 1, 1, 1, 1, 1, 1, 2, 1, 2, 1, 1, 1, 4, 2, 1, 4, 1, 2, 3, 1, 1, 2, 1]\n",
    "ori_hash='d650078ae91d82ebd1d586110960a789c1a15e2cbc053b9daf8d8a4905950720:b840089ce93581869e9c02a7b5aefa7b'"
   ]
  },
  {
   "cell_type": "code",
   "execution_count": 3,
   "metadata": {},
   "outputs": [],
   "source": [
    "class K_Cessation:\n",
    "    '''\n",
    "    ## Background:\n",
    "    K-Cessation cipher is a cipher that uses a K bit wheel to pick the next cipher bit from plaintext bit.\n",
    "    When encryption starts, the wheel starts at the last bit of the wheel.\n",
    "    The wheel loops around when it reaches the end.\n",
    "    For every plaintext bit, the wheel is rotated to the next bit in the wheel that matches the plaintext bit, and the distance rotated is appended to the ciphertext.\n",
    "\n",
    "    Therefore, if the wheel is not known, it is not possible to decrypt the ciphertext. \n",
    "    Or is it?\n",
    "\n",
    "    \n",
    "    ## Example:\n",
    "    To encode \"youtu.be/dQw4w9WgXcQ\" in 64-Cessation with the wheel 1100011011100011100110100011110110010110010100001011111011111010:\n",
    "    1. convert the plaintext to bits: 01111001 01101111 01110101 01110100 01110101 00101110 01100010 01100101 00101111 01100100 01010001 01110111 00110100 01110111 00111001 01010111 01100111 01011000 01100011 01010001\n",
    "    2. from wheel[-1] to the next \"0\" bit in the wheel, distance is 3, the current wheel position is wheel[2]\n",
    "    3. from wheel[2] to the next \"1\" bit in the wheel, distance is 3, the current wheel position is wheel[5]\n",
    "    4. repeat the steps until all bits is encoded\n",
    "    5. the result is 3312121232111411211311221152515233123332223411313221112161142123243321244111111311111112111131113211132412111212112112321122115251142114213312132313311222111112\n",
    "\n",
    "\n",
    "    ## Challenge:\n",
    "    A flag is encoded with 64-Cessation cipher. \n",
    "    The wheel is not known. \n",
    "    The ciphertext is given in ciphertext.txt.\n",
    "    The flag is only known to be an ascii string that is longer than 64 characters. \n",
    "    No part of the flag is known, which means the flag is NOT in WMCTF{} or FLAG{} format.\n",
    "    When submitting, please make the flag in WMCTF{} format.\n",
    "    The most significant bit of each byte is flipped with a random bit.\n",
    "    You need to extract the flag from the ciphertext and submit it.\n",
    "    For your convenience, a salted sha256 hash of the flag is given in flag_hash.txt.\n",
    "\n",
    "    '''\n",
    "\n",
    "    def __is_valid_wheel(self):\n",
    "        hasZero = False\n",
    "        hasOne = False\n",
    "        for i in self.wheel:\n",
    "            if not isinstance(i,int):\n",
    "                raise ValueError(\"Wheel must be a list of int\")\n",
    "            if i == 0:\n",
    "                hasZero = True\n",
    "            elif i == 1:\n",
    "                hasOne = True\n",
    "            if i > 1 or i < 0:\n",
    "                raise ValueError(\"Wheel must be a list of 0s and 1s\")\n",
    "        if not hasZero or not hasOne:\n",
    "            raise ValueError(\"Wheel must contain at least one 0 and one 1\")\n",
    "\n",
    "    def __init__(self,wheel:List[int]):\n",
    "        self.wheel = wheel\n",
    "        self.__is_valid_wheel()\n",
    "        self.state = -1\n",
    "        self.finalized = False\n",
    "    def __find_next_in_wheel(self,target:Literal[1,0]) -> List[int]:\n",
    "        result = 1\n",
    "        while True:\n",
    "            ptr = self.state + result\n",
    "            ptr = ptr % len(self.wheel)\n",
    "            v = self.wheel[ptr]\n",
    "            if v == target:\n",
    "                self.state = ptr\n",
    "                return [result]\n",
    "            result+=1\n",
    "    def __iter_bits(self,data:bytes):\n",
    "        for b in data:\n",
    "            for i in range(7,-1,-1):\n",
    "                yield (b >> i) & 1\n",
    "    def __check_finalized(self):\n",
    "        if self.finalized:\n",
    "            raise ValueError(\"This instance has already been finalized\")\n",
    "        self.finalized = True\n",
    "    def encrypt(self,data:Union[str,bytes]) -> List[int]:\n",
    "        self.__check_finalized()\n",
    "        if isinstance(data,str):\n",
    "            data = data.encode()\n",
    "        out = []\n",
    "        for bit in self.__iter_bits(data):\n",
    "            rs = self.__find_next_in_wheel(bit)\n",
    "            # print(f\"bit={bit},rs={rs},state={self.state}\")\n",
    "            out.extend(rs)\n",
    "        return out\n",
    "    \n",
    "    def decrypt(self,data:List[int]) -> bytes:\n",
    "        self.__check_finalized()\n",
    "        out = []\n",
    "        for i in data:\n",
    "            assert type(i) == int\n",
    "            self.state = self.state + i\n",
    "            self.state %= len(self.wheel)\n",
    "            out.append(self.wheel[self.state])\n",
    "        long = \"\".join(map(str,out))\n",
    "        return long_to_bytes(int(long,2))\n",
    "    \n",
    "    \n",
    "# generate a random wheel with k bits.\n",
    "def random_wheel(k=64) -> List[int]:\n",
    "    return [secrets.randbelow(2) for _ in range(k)]\n",
    "\n",
    "# the most significant bit of each byte is flipped with a random bit.\n",
    "def encode_ascii_with_random_msb(data:bytes) -> bytes:\n",
    "    out = bytearray()\n",
    "    for b in data:\n",
    "        assert b < 128, \"not ascii\"\n",
    "        b = b ^ (0b10000000 * secrets.randbelow(2))\n",
    "        out.append(b)\n",
    "    return bytes(out)\n",
    "\n",
    "# for your convenience, here is the decoding function.\n",
    "def decode_ascii_with_random_msb(data:bytes) -> bytes:\n",
    "    out = bytearray()\n",
    "    for b in data:\n",
    "        b = b & 0b01111111\n",
    "        out.append(b)\n",
    "    return bytes(out)"
   ]
  },
  {
   "cell_type": "code",
   "execution_count": 4,
   "metadata": {},
   "outputs": [],
   "source": [
    "flag=\"THIS_IS_TEST_FLAG_WHEN_YOU_HEAR_THE_BUZZER_LOOK_AT_THE_FLAG_BEEEP\"\n",
    "wheel=[0, 1, 1, 0, 0, 0, 1, 1, 0, 0, 1, 0, 1, 1, 1, 0, 1, 0, 0, 0, 1, 0, 1, 1, 1, 1, 0, 0, 1, 0, 1, 1, 1, 1, 1, 1, 1, 0, 1, 1, 0, 1, 0, 1, 0, 0, 1, 1, 0, 0, 1, 1, 0, 0, 0, 1, 0, 1, 0, 0, 0, 1, 0, 0]"
   ]
  },
  {
   "cell_type": "code",
   "execution_count": 5,
   "metadata": {},
   "outputs": [],
   "source": [
    "test_cipher=[3, 3, 1, 2, 1, 2, 1, 2]"
   ]
  },
  {
   "cell_type": "code",
   "execution_count": 6,
   "metadata": {},
   "outputs": [
    {
     "name": "stdout",
     "output_type": "stream",
     "text": [
      "wheel_step=[[-1, 1], [-1, 1], [-1, 2], [-1, 1], [-1, 1], [-1, 1], [-1, 1], [-1, 4], [-1, 1], [-1, 1], [-1, 2], [-1, 2], [-1, 1], [-1, 1], [-1, 4], [-1, 3], [-1, 1], [-1, 1], [-1, 1], [-1, 2], [-1, 1], [-1, 3], [-1, 1], [-1, 5], [-1, 1], [-1, 1], [-1, 2], [-1, 1], [-1, 1], [-1, 1], [-1, 2], [-1, 1], [-1, 3], [-1, 1], [-1, 1], [-1, 1], [-1, 2], [-1, 4], [-1, 3], [-1, 1], [-1, 1], [-1, 1], [-1, 6], [-1, 1], [-1, 1], [-1, 3], [-1, 1], [-1, 1], [-1, 2], [-1, 2], [-1, 1], [-1, 3], [-1, 2], [-1, 3], [-1, 1], [-1, 1], [-1, 1], [-1, 1], [-1, 1], [-1, 1], [-1, 1], [-1, 1], [-1, 1], [-1, 2]]\n"
     ]
    }
   ],
   "source": [
    "# 创建一个有64元素全为-1的数组\n",
    "wheel_step = [[0,0]for _ in range(64)]\n",
    "index=-1\n",
    "for i in ori_cipher:\n",
    "# for i in test_cipher:\n",
    "    x=index%64\n",
    "    index+=i\n",
    "    if wheel_step[x][0]==0:\n",
    "        wheel_step[x][0]=i\n",
    "    elif wheel_step[x][0]!=i:\n",
    "        wheel_step[x][1]=i\n",
    "\n",
    "wheel_step\n",
    "print(f'wheel_step={wheel_step}')"
   ]
  },
  {
   "cell_type": "code",
   "execution_count": 213,
   "metadata": {},
   "outputs": [
    {
     "name": "stdout",
     "output_type": "stream",
     "text": [
      "wheel_len=64\n",
      "wheel_len=64\n",
      "wheel=[1, 0, 1, 0, 1, 1, 0, 0, 1, 1, 1, 0, 1, 0, 1, 0, 0, 0, 1, 1, 1, 0, 0, 0, 1, 1, 1, 1, 0, 1, 1, 1, 0, 1, 1, 0, 0, 1, 0, 0, 0, 1, 0, 1, 1, 1, 1, 1, 1, 0, 1, 0, 0, 0, 1, 0, 1, 0, 1, 1, 1, 0, 1, 0]\n"
     ]
    }
   ],
   "source": [
    "wheel=[1 for _ in range(64)]\n",
    "i=0\n",
    "print(f'wheel_len={len(wheel)}')\n",
    "while True:\n",
    "    num=abs(wheel_step[i][0]-wheel_step[i][1])\n",
    "    # print(f'num={num}')\n",
    "    if wheel_step[i][0]==0 or wheel_step[i][1]==0:\n",
    "        i+=1\n",
    "        if i>=64:\n",
    "            break\n",
    "        continue\n",
    "    # 指定位置覆盖与wheel[i]相反的元素\n",
    "    for j in range(num):\n",
    "        if i+j+1>=64:\n",
    "            break\n",
    "        wheel[(i+j+1)%64]=1-wheel[i]\n",
    "    i+=num\n",
    "    if i>=64:\n",
    "        break\n",
    "print(f'wheel_len={len(wheel)}')\n",
    "\n",
    "print(f'wheel={wheel}')"
   ]
  },
  {
   "cell_type": "code",
   "execution_count": 85,
   "metadata": {},
   "outputs": [
    {
     "name": "stdout",
     "output_type": "stream",
     "text": [
      "[2, 3, 4, 5, 6, 7, 13, 15, 21, 22, 29, 37, 38, 47]\n"
     ]
    }
   ],
   "source": [
    "# wheel is wheel and 64 bits\n",
    "assert type(wheel) == list and len(wheel) == 64 and all((i in [0,1] for i in wheel))\n",
    "# flag is flag and string\n",
    "assert type(flag) == str\n",
    "# flag is ascii\n",
    "assert all((ord(c) < 128 for c in flag))\n",
    "# flag is long\n",
    "assert len(flag) > 64\n",
    "# flag does not start with wmctf{ nor does it end with }\n",
    "assert not flag.lower().startswith(\"wmctf{\") and not flag.endswith(\"}\")\n",
    "# flag also does not start with flag{\n",
    "assert not flag.lower().startswith(\"flag{\")\n",
    "\n",
    "# the most significant bit of each byte is flipped with a random bit.\n",
    "ct_list = []\n",
    "wheel = random_wheel(64)\n",
    "for i in range(0,200):\n",
    "    \n",
    "    plaintext = encode_ascii_with_random_msb(flag.encode())\n",
    "    c = K_Cessation(wheel)\n",
    "    ct = c.encrypt(plaintext)\n",
    "    ct_list.append(ct)\n",
    "\n",
    "# 比较ct_list中，有哪些位在所有元素中都相同\n",
    "def get_same_bits(ct_list):\n",
    "    location_bits = []\n",
    "    for i in range(len(ct_list[0])):\n",
    "        if all(ct[i] == ct_list[0][i] for ct in ct_list):\n",
    "            location_bits.append(i)\n",
    "    return location_bits\n",
    "print(get_same_bits(ct_list))\n"
   ]
  },
  {
   "cell_type": "code",
   "execution_count": 198,
   "metadata": {},
   "outputs": [
    {
     "name": "stdout",
     "output_type": "stream",
     "text": [
      "wheel=[1, 0, 1, 0, 1, 1, 0, 0, 1, 1, 1, 0, 1, 0, 1, 0, 0, 0, 1, 1, 1, 0, 0, 0, 1, 1, 1, 1, 0, 1, 1, 1, 0, 1, 1, 0, 0, 1, 0, 0, 0, 1, 1, 0, 0, 0, 0, 0, 1, 1, 0, 1, 1, 1, 0, 0, 1, 0, 1, 1, 1, 0, 1, 0]\n"
     ]
    }
   ],
   "source": [
    "wheel='1010110011101010001110001111011101100100011000001101110010111010'.replace('0','0 ').replace('1','1 ').split()\n",
    "wheel=[int(i) for i in wheel]\n",
    "print(f'wheel={wheel}')\n"
   ]
  },
  {
   "cell_type": "code",
   "execution_count": 215,
   "metadata": {},
   "outputs": [
    {
     "name": "stdout",
     "output_type": "stream",
     "text": [
      "decode:b'DoubleUmCtF[S33K1NG_tru7h-7h3_w1s3-f1nd_1n57e4d-17s_pr0f0und-4b5ence_n0w-g0_s0lv3-th3_3y3s-1n_N0ita]'\n"
     ]
    }
   ],
   "source": [
    "# import hashlib\n",
    "# # for you can verify the correctness of your decryption.\n",
    "# # or you can brute force the flag hash, it is just a >64 length string :)\n",
    "# salt = secrets.token_bytes(16).hex()\n",
    "# h = hashlib.sha256((salt + flag).encode()).hexdigest()\n",
    "# print(f\"flag_hash:{h}:{salt}\")\n",
    "\n",
    "wheel=[0, 1, 0, 1, 0, 0, 1, 1, 0, 0, 0, 1, 0, 1, 0, 1, 1, 1, 0, 0, 0, 1, 1, 1, 0, 0, 0, 0, 1, 0, 0, 0, 1, 0, 0, 1, 1, 0, 1, 1, 1, 0, 0, 1, 1, 1, 1, 1, 0, 0, 1, 0, 0, 0, 1, 1, 1, 1, 0, 0, 0, 1, 0, 1]\n",
    "wheel=[0, 1, 0, 1, 0, 0, 1, 1, 0, 0, 0, 1, 0, 1, 0, 1, 1, 1, 0, 0, 0, 1, 1, 1, 0, 0, 0, 0, 1, 0, 0, 0, 1, 0, 0, 1, 1, 0, 1, 1, 1, 0, 0, 1, 1, 1, 1, 1, 0, 0, 1, 0, 0, 0, 1, 1, 1, 1, 0, 0, 0, 1, 0, 1]\n",
    "\n",
    "wheel=[1, 0, 1, 0, 1, 1, 0, 0, 1, 1, 1, 0, 1, 0, 1, 0, 0, 0, 1, 1, 1, 0, 0, 0, 1, 1, 1, 1, 0, 1, 1, 1, 0, 1, 1, 0, 0, 1, 0, 0, 0, 1, 1, 0, 0, 0, 0, 0, 1, 1, 0, 1, 1, 1, 0, 0, 0, 0, 1, 1, 1, 0, 1, 0]\n",
    "wheel=[1, 0, 1, 0, 1, 1, 0, 0, 1, 1, 1, 0, 1, 0, 1, 0, 0, 0, 1, 1, 1, 0, 0, 0, 1, 1, 1, 1, 0, 1, 1, 1, 0, 1, 1, 0, 0, 1, 0, 0, 0, 1, 1, 0, 0, 0, 0, 0, 1, 1, 0, 1, 1, 1, 0, 0, 0, 0, 1, 1, 1, 0, 1, 0]\n",
    "wheel=[1, 0, 1, 0, 1, 1, 0, 0, 1, 1, 1, 0, 1, 0, 1, 0, 0, 0, 1, 1, 1, 0, 0, 0, 1, 1, 1, 1, 0, 1, 1, 1, 0, 1, 1, 0, 0, 1, 0, 0, 0, 1, 0, 1, 1, 1, 1, 1, 0, 1, 0, 1, 1, 1, 0, 0, 0, 1, 0, 0, 0, 1, 0, 1]\n",
    "wheel=[1, 0, 1, 0, 1, 1, 0, 0, 1, 1, 1, 0, 1, 0, 1, 0, 0, 0, 1, 1, 1, 0, 0, 0, 1, 1, 1, 1, 0, 1, 1, 1, 0, 1, 1, 0, 0, 1, 0, 0, 0, 1, 0, 1, 1, 1, 1, 1, 1, 0, 1, 0, 0, 0, 1, 0, 1, 0, 1, 1, 1, 0, 1, 0]\n",
    "\n",
    "wheel=[1, 0, 1, 0, 1, 1, 0, 0, 1, 1, 1, 0, 1, 0, 1, 0, 0, 0, 1, 1, 1, 0, 0, 0, 1, 1, 1, 1, 0, 1, 1, 1, 0, 1, 1, 0, 0, 1, 0, 0, 0, 1, 1, 0, 0, 0, 0, 0, 1, 1, 0, 1, 1, 1, 0, 0, 1, 0, 1, 1, 1, 0, 1, 0]\n",
    "# demostration that decryption works\n",
    "c = K_Cessation(wheel)\n",
    "pt = c.decrypt(ori_cipher)\n",
    "pt = decode_ascii_with_random_msb(pt)\n",
    "print(f\"decode:{pt}\")\n",
    "# assert flag.encode() in pt"
   ]
  },
  {
   "cell_type": "code",
   "execution_count": 161,
   "metadata": {},
   "outputs": [
    {
     "name": "stdout",
     "output_type": "stream",
     "text": [
      "b840089ce93581869e9c02a7b5aefa7b\n"
     ]
    },
    {
     "data": {
      "text/plain": [
       "'e3ec717911d0e24746488093a4dd034d944bc65ea8916320963d194b11779bdd'"
      ]
     },
     "execution_count": 161,
     "metadata": {},
     "output_type": "execute_result"
    }
   ],
   "source": [
    "\n",
    "flag='Dou`leUm\\x03tF[C33K1NG_tru7h-\\x17h3_W1s3\\rf1nd_1n5\\x17e4d-17sOpr0b0un`-4b\\x15enca_n0w-g0_c0lv\\x13-th3_3x3s-1f_N0hta]'\n",
    "# flag=\"THIS_IS_TEST_FLAG_WHEN_YOU_HEAR_THE_BUZZER_LOOK_AT_THE_FLAG_BEEEP\"\n",
    "\n",
    "import hashlib\n",
    "# for you can verify the correctness of your decryption.\n",
    "# or you can brute force the flag hash, it is just a >64 length string :)\n",
    "salt='b840089ce93581869e9c02a7b5aefa7b'\n",
    "# salt='9f8b1644b867eb1ea96ba18c02e747d9'\n",
    "print(salt)\n",
    "h = hashlib.sha256((salt + flag).encode()).hexdigest()\n",
    "h"
   ]
  }
 ],
 "metadata": {
  "kernelspec": {
   "display_name": "Python 3",
   "language": "python",
   "name": "python3"
  },
  "language_info": {
   "codemirror_mode": {
    "name": "ipython",
    "version": 3
   },
   "file_extension": ".py",
   "mimetype": "text/x-python",
   "name": "python",
   "nbconvert_exporter": "python",
   "pygments_lexer": "ipython3",
   "version": "3.12.5"
  }
 },
 "nbformat": 4,
 "nbformat_minor": 2
}
