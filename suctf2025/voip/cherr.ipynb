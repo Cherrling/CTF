{
 "cells": [
  {
   "cell_type": "code",
   "execution_count": 10,
   "metadata": {},
   "outputs": [
    {
     "name": "stdout",
     "output_type": "stream",
     "text": [
      "000000\n"
     ]
    },
    {
     "ename": "Bad7zFile",
     "evalue": "invalid block data",
     "output_type": "error",
     "traceback": [
      "\u001b[1;31m---------------------------------------------------------------------------\u001b[0m",
      "\u001b[1;31mBad7zFile\u001b[0m                                 Traceback (most recent call last)",
      "Cell \u001b[1;32mIn[10], line 34\u001b[0m\n\u001b[0;32m     31\u001b[0m             \u001b[38;5;28;01mbreak\u001b[39;00m\n\u001b[0;32m     33\u001b[0m \u001b[38;5;28;01mif\u001b[39;00m \u001b[38;5;18m__name__\u001b[39m \u001b[38;5;241m==\u001b[39m \u001b[38;5;124m'\u001b[39m\u001b[38;5;124m__main__\u001b[39m\u001b[38;5;124m'\u001b[39m:\n\u001b[1;32m---> 34\u001b[0m     \u001b[43mmain\u001b[49m\u001b[43m(\u001b[49m\u001b[43m)\u001b[49m\n",
      "Cell \u001b[1;32mIn[10], line 29\u001b[0m, in \u001b[0;36mmain\u001b[1;34m()\u001b[0m\n\u001b[0;32m     27\u001b[0m s \u001b[38;5;241m=\u001b[39m \u001b[38;5;124m'\u001b[39m\u001b[38;5;124m'\u001b[39m\u001b[38;5;241m.\u001b[39mjoin(i)\n\u001b[0;32m     28\u001b[0m \u001b[38;5;28mprint\u001b[39m(s)\n\u001b[1;32m---> 29\u001b[0m \u001b[38;5;28;01mif\u001b[39;00m \u001b[43munzip\u001b[49m\u001b[43m(\u001b[49m\u001b[43msha256sum\u001b[49m\u001b[43m(\u001b[49m\u001b[43ms\u001b[49m\u001b[43m)\u001b[49m\u001b[43m)\u001b[49m:\n\u001b[0;32m     30\u001b[0m     \u001b[38;5;28mprint\u001b[39m(\u001b[38;5;124m'\u001b[39m\u001b[38;5;124mflag:\u001b[39m\u001b[38;5;124m'\u001b[39m, s)\n\u001b[0;32m     31\u001b[0m     \u001b[38;5;28;01mbreak\u001b[39;00m\n",
      "Cell \u001b[1;32mIn[10], line 14\u001b[0m, in \u001b[0;36munzip\u001b[1;34m(s)\u001b[0m\n\u001b[0;32m     12\u001b[0m \u001b[38;5;28;01mdef\u001b[39;00m \u001b[38;5;21munzip\u001b[39m(s):\n\u001b[0;32m     13\u001b[0m \u001b[38;5;66;03m#算出来的值作为密码尝试解压 flag.7z\u001b[39;00m\n\u001b[1;32m---> 14\u001b[0m     \u001b[38;5;28;01mwith\u001b[39;00m \u001b[43mpy7zr\u001b[49m\u001b[38;5;241;43m.\u001b[39;49m\u001b[43mSevenZipFile\u001b[49m\u001b[43m(\u001b[49m\u001b[38;5;124;43m'\u001b[39;49m\u001b[38;5;124;43mflag.7z\u001b[39;49m\u001b[38;5;124;43m'\u001b[39;49m\u001b[43m,\u001b[49m\u001b[43m \u001b[49m\u001b[43mmode\u001b[49m\u001b[38;5;241;43m=\u001b[39;49m\u001b[38;5;124;43m'\u001b[39;49m\u001b[38;5;124;43mr\u001b[39;49m\u001b[38;5;124;43m'\u001b[39;49m\u001b[43m,\u001b[49m\u001b[43m \u001b[49m\u001b[43mpassword\u001b[49m\u001b[38;5;241;43m=\u001b[39;49m\u001b[43ms\u001b[49m\u001b[43m)\u001b[49m \u001b[38;5;28;01mas\u001b[39;00m z:\n\u001b[0;32m     15\u001b[0m         \u001b[38;5;28;01mtry\u001b[39;00m:\n\u001b[0;32m     16\u001b[0m             z\u001b[38;5;241m.\u001b[39mextractall()\n",
      "File \u001b[1;32mc:\\Users\\cherr\\miniconda3\\Lib\\site-packages\\py7zr\\py7zr.py:416\u001b[0m, in \u001b[0;36mSevenZipFile.__init__\u001b[1;34m(self, file, mode, filters, dereference, password, header_encryption, blocksize, mp)\u001b[0m\n\u001b[0;32m    414\u001b[0m \u001b[38;5;28;01mexcept\u001b[39;00m \u001b[38;5;167;01mException\u001b[39;00m \u001b[38;5;28;01mas\u001b[39;00m e:\n\u001b[0;32m    415\u001b[0m     \u001b[38;5;28mself\u001b[39m\u001b[38;5;241m.\u001b[39m_fpclose()\n\u001b[1;32m--> 416\u001b[0m     \u001b[38;5;28;01mraise\u001b[39;00m e\n\u001b[0;32m    417\u001b[0m \u001b[38;5;28mself\u001b[39m\u001b[38;5;241m.\u001b[39m_dict: Dict[\u001b[38;5;28mstr\u001b[39m, IO[Any]] \u001b[38;5;241m=\u001b[39m {}\n\u001b[0;32m    418\u001b[0m \u001b[38;5;28mself\u001b[39m\u001b[38;5;241m.\u001b[39mdereference \u001b[38;5;241m=\u001b[39m dereference\n",
      "File \u001b[1;32mc:\\Users\\cherr\\miniconda3\\Lib\\site-packages\\py7zr\\py7zr.py:397\u001b[0m, in \u001b[0;36mSevenZipFile.__init__\u001b[1;34m(self, file, mode, filters, dereference, password, header_encryption, blocksize, mp)\u001b[0m\n\u001b[0;32m    395\u001b[0m \u001b[38;5;28;01mtry\u001b[39;00m:\n\u001b[0;32m    396\u001b[0m     \u001b[38;5;28;01mif\u001b[39;00m mode \u001b[38;5;241m==\u001b[39m \u001b[38;5;124m\"\u001b[39m\u001b[38;5;124mr\u001b[39m\u001b[38;5;124m\"\u001b[39m:\n\u001b[1;32m--> 397\u001b[0m         \u001b[38;5;28;43mself\u001b[39;49m\u001b[38;5;241;43m.\u001b[39;49m\u001b[43m_real_get_contents\u001b[49m\u001b[43m(\u001b[49m\u001b[43mpassword\u001b[49m\u001b[43m)\u001b[49m\n\u001b[0;32m    398\u001b[0m         \u001b[38;5;28mself\u001b[39m\u001b[38;5;241m.\u001b[39mfp\u001b[38;5;241m.\u001b[39mseek(\u001b[38;5;28mself\u001b[39m\u001b[38;5;241m.\u001b[39mafterheader)  \u001b[38;5;66;03m# seek into start of payload and prepare worker to extract\u001b[39;00m\n\u001b[0;32m    399\u001b[0m         \u001b[38;5;28mself\u001b[39m\u001b[38;5;241m.\u001b[39mworker \u001b[38;5;241m=\u001b[39m Worker(\u001b[38;5;28mself\u001b[39m\u001b[38;5;241m.\u001b[39mfiles, \u001b[38;5;28mself\u001b[39m\u001b[38;5;241m.\u001b[39mafterheader, \u001b[38;5;28mself\u001b[39m\u001b[38;5;241m.\u001b[39mheader, \u001b[38;5;28mself\u001b[39m\u001b[38;5;241m.\u001b[39mmp)\n",
      "File \u001b[1;32mc:\\Users\\cherr\\miniconda3\\Lib\\site-packages\\py7zr\\py7zr.py:443\u001b[0m, in \u001b[0;36mSevenZipFile._real_get_contents\u001b[1;34m(self, password)\u001b[0m\n\u001b[0;32m    441\u001b[0m \u001b[38;5;28;01mif\u001b[39;00m \u001b[38;5;28mself\u001b[39m\u001b[38;5;241m.\u001b[39msig_header\u001b[38;5;241m.\u001b[39mnextheadercrc \u001b[38;5;241m!=\u001b[39m calculate_crc32(buffer\u001b[38;5;241m.\u001b[39mgetvalue()):\n\u001b[0;32m    442\u001b[0m     \u001b[38;5;28;01mraise\u001b[39;00m Bad7zFile(\u001b[38;5;124m\"\u001b[39m\u001b[38;5;124minvalid header data\u001b[39m\u001b[38;5;124m\"\u001b[39m)\n\u001b[1;32m--> 443\u001b[0m header \u001b[38;5;241m=\u001b[39m \u001b[43mHeader\u001b[49m\u001b[38;5;241;43m.\u001b[39;49m\u001b[43mretrieve\u001b[49m\u001b[43m(\u001b[49m\u001b[38;5;28;43mself\u001b[39;49m\u001b[38;5;241;43m.\u001b[39;49m\u001b[43mfp\u001b[49m\u001b[43m,\u001b[49m\u001b[43m \u001b[49m\u001b[43mbuffer\u001b[49m\u001b[43m,\u001b[49m\u001b[43m \u001b[49m\u001b[38;5;28;43mself\u001b[39;49m\u001b[38;5;241;43m.\u001b[39;49m\u001b[43mafterheader\u001b[49m\u001b[43m,\u001b[49m\u001b[43m \u001b[49m\u001b[43mpassword\u001b[49m\u001b[43m)\u001b[49m\n\u001b[0;32m    444\u001b[0m \u001b[38;5;28;01mif\u001b[39;00m header \u001b[38;5;129;01mis\u001b[39;00m \u001b[38;5;28;01mNone\u001b[39;00m:\n\u001b[0;32m    445\u001b[0m     \u001b[38;5;28;01mreturn\u001b[39;00m\n",
      "File \u001b[1;32mc:\\Users\\cherr\\miniconda3\\Lib\\site-packages\\py7zr\\archiveinfo.py:918\u001b[0m, in \u001b[0;36mHeader.retrieve\u001b[1;34m(cls, fp, buffer, start_pos, password)\u001b[0m\n\u001b[0;32m    915\u001b[0m \u001b[38;5;129m@classmethod\u001b[39m\n\u001b[0;32m    916\u001b[0m \u001b[38;5;28;01mdef\u001b[39;00m \u001b[38;5;21mretrieve\u001b[39m(\u001b[38;5;28mcls\u001b[39m, fp: BinaryIO, buffer: BytesIO, start_pos: \u001b[38;5;28mint\u001b[39m, password\u001b[38;5;241m=\u001b[39m\u001b[38;5;28;01mNone\u001b[39;00m):\n\u001b[0;32m    917\u001b[0m     obj \u001b[38;5;241m=\u001b[39m \u001b[38;5;28mcls\u001b[39m()\n\u001b[1;32m--> 918\u001b[0m     \u001b[43mobj\u001b[49m\u001b[38;5;241;43m.\u001b[39;49m\u001b[43m_read\u001b[49m\u001b[43m(\u001b[49m\u001b[43mfp\u001b[49m\u001b[43m,\u001b[49m\u001b[43m \u001b[49m\u001b[43mbuffer\u001b[49m\u001b[43m,\u001b[49m\u001b[43m \u001b[49m\u001b[43mstart_pos\u001b[49m\u001b[43m,\u001b[49m\u001b[43m \u001b[49m\u001b[43mpassword\u001b[49m\u001b[43m)\u001b[49m\n\u001b[0;32m    919\u001b[0m     \u001b[38;5;28;01mreturn\u001b[39;00m obj\n",
      "File \u001b[1;32mc:\\Users\\cherr\\miniconda3\\Lib\\site-packages\\py7zr\\archiveinfo.py:962\u001b[0m, in \u001b[0;36mHeader._read\u001b[1;34m(self, fp, buffer, start_pos, password)\u001b[0m\n\u001b[0;32m    960\u001b[0m         streams\u001b[38;5;241m.\u001b[39mpackinfo\u001b[38;5;241m.\u001b[39menable_digests \u001b[38;5;241m=\u001b[39m \u001b[38;5;28;01mTrue\u001b[39;00m\n\u001b[0;32m    961\u001b[0m         \u001b[38;5;28;01mif\u001b[39;00m folder\u001b[38;5;241m.\u001b[39mcrc \u001b[38;5;241m!=\u001b[39m calculate_crc32(folder_data):\n\u001b[1;32m--> 962\u001b[0m             \u001b[38;5;28;01mraise\u001b[39;00m Bad7zFile(\u001b[38;5;124m\"\u001b[39m\u001b[38;5;124minvalid block data\u001b[39m\u001b[38;5;124m\"\u001b[39m)\n\u001b[0;32m    963\u001b[0m     buffer2\u001b[38;5;241m.\u001b[39mwrite(folder_data)\n\u001b[0;32m    964\u001b[0m buffer2\u001b[38;5;241m.\u001b[39mseek(\u001b[38;5;241m0\u001b[39m, \u001b[38;5;241m0\u001b[39m)\n",
      "\u001b[1;31mBad7zFile\u001b[0m: invalid block data"
     ]
    }
   ],
   "source": [
    "# 六位字符串，尝试0-9 A-F 的所有组合，然后对所有组合计算 kali 中的 sha256sum ，然后用算出来的值作为密码尝试解压 flag.7z\n",
    "import hashlib\n",
    "import os\n",
    "import subprocess\n",
    "import string\n",
    "import itertools\n",
    "import time\n",
    "import py7zr\n",
    "def sha256sum(s):\n",
    "    return hashlib.sha256(s.encode()).hexdigest()\n",
    "\n",
    "def unzip(s):\n",
    "#算出来的值作为密码尝试解压 flag.7z\n",
    "    with py7zr.SevenZipFile('flag.7z', mode='r', password=s) as z:\n",
    "        try:\n",
    "            z.extractall()\n",
    "            return True\n",
    "        except:\n",
    "            pass\n",
    "    return False\n",
    "\n",
    "\n",
    "def main():\n",
    "    # 0-9 A-F\n",
    "    charset = string.digits + string.ascii_uppercase[:6]\n",
    "    for i in itertools.product(charset, repeat=6):\n",
    "        s = ''.join(i)\n",
    "        print(s)\n",
    "        if unzip(sha256sum(s)):\n",
    "            print('flag:', s)\n",
    "            break\n",
    "        \n",
    "if __name__ == '__main__':\n",
    "    main()"
   ]
  },
  {
   "cell_type": "code",
   "execution_count": 8,
   "metadata": {},
   "outputs": [
    {
     "ename": "LZMAError",
     "evalue": "Corrupt input data",
     "output_type": "error",
     "traceback": [
      "\u001b[1;31m---------------------------------------------------------------------------\u001b[0m",
      "\u001b[1;31mLZMAError\u001b[0m                                 Traceback (most recent call last)",
      "Cell \u001b[1;32mIn[8], line 1\u001b[0m\n\u001b[1;32m----> 1\u001b[0m \u001b[38;5;28;01mwith\u001b[39;00m \u001b[43mpy7zr\u001b[49m\u001b[38;5;241;43m.\u001b[39;49m\u001b[43mSevenZipFile\u001b[49m\u001b[43m(\u001b[49m\u001b[38;5;124;43m'\u001b[39;49m\u001b[38;5;124;43mcherr.7z\u001b[39;49m\u001b[38;5;124;43m'\u001b[39;49m\u001b[43m,\u001b[49m\u001b[43m \u001b[49m\u001b[43mmode\u001b[49m\u001b[38;5;241;43m=\u001b[39;49m\u001b[38;5;124;43m'\u001b[39;49m\u001b[38;5;124;43mr\u001b[39;49m\u001b[38;5;124;43m'\u001b[39;49m\u001b[43m,\u001b[49m\u001b[43m \u001b[49m\u001b[43mpassword\u001b[49m\u001b[38;5;241;43m=\u001b[39;49m\u001b[38;5;124;43m'\u001b[39;49m\u001b[38;5;124;43m13\u001b[39;49m\u001b[38;5;124;43m'\u001b[39;49m\u001b[43m)\u001b[49m \u001b[38;5;28;01mas\u001b[39;00m z:\n\u001b[0;32m      2\u001b[0m     z\u001b[38;5;241m.\u001b[39mextractall()\n",
      "File \u001b[1;32mc:\\Users\\cherr\\miniconda3\\Lib\\site-packages\\py7zr\\py7zr.py:416\u001b[0m, in \u001b[0;36mSevenZipFile.__init__\u001b[1;34m(self, file, mode, filters, dereference, password, header_encryption, blocksize, mp)\u001b[0m\n\u001b[0;32m    414\u001b[0m \u001b[38;5;28;01mexcept\u001b[39;00m \u001b[38;5;167;01mException\u001b[39;00m \u001b[38;5;28;01mas\u001b[39;00m e:\n\u001b[0;32m    415\u001b[0m     \u001b[38;5;28mself\u001b[39m\u001b[38;5;241m.\u001b[39m_fpclose()\n\u001b[1;32m--> 416\u001b[0m     \u001b[38;5;28;01mraise\u001b[39;00m e\n\u001b[0;32m    417\u001b[0m \u001b[38;5;28mself\u001b[39m\u001b[38;5;241m.\u001b[39m_dict: Dict[\u001b[38;5;28mstr\u001b[39m, IO[Any]] \u001b[38;5;241m=\u001b[39m {}\n\u001b[0;32m    418\u001b[0m \u001b[38;5;28mself\u001b[39m\u001b[38;5;241m.\u001b[39mdereference \u001b[38;5;241m=\u001b[39m dereference\n",
      "File \u001b[1;32mc:\\Users\\cherr\\miniconda3\\Lib\\site-packages\\py7zr\\py7zr.py:397\u001b[0m, in \u001b[0;36mSevenZipFile.__init__\u001b[1;34m(self, file, mode, filters, dereference, password, header_encryption, blocksize, mp)\u001b[0m\n\u001b[0;32m    395\u001b[0m \u001b[38;5;28;01mtry\u001b[39;00m:\n\u001b[0;32m    396\u001b[0m     \u001b[38;5;28;01mif\u001b[39;00m mode \u001b[38;5;241m==\u001b[39m \u001b[38;5;124m\"\u001b[39m\u001b[38;5;124mr\u001b[39m\u001b[38;5;124m\"\u001b[39m:\n\u001b[1;32m--> 397\u001b[0m         \u001b[38;5;28;43mself\u001b[39;49m\u001b[38;5;241;43m.\u001b[39;49m\u001b[43m_real_get_contents\u001b[49m\u001b[43m(\u001b[49m\u001b[43mpassword\u001b[49m\u001b[43m)\u001b[49m\n\u001b[0;32m    398\u001b[0m         \u001b[38;5;28mself\u001b[39m\u001b[38;5;241m.\u001b[39mfp\u001b[38;5;241m.\u001b[39mseek(\u001b[38;5;28mself\u001b[39m\u001b[38;5;241m.\u001b[39mafterheader)  \u001b[38;5;66;03m# seek into start of payload and prepare worker to extract\u001b[39;00m\n\u001b[0;32m    399\u001b[0m         \u001b[38;5;28mself\u001b[39m\u001b[38;5;241m.\u001b[39mworker \u001b[38;5;241m=\u001b[39m Worker(\u001b[38;5;28mself\u001b[39m\u001b[38;5;241m.\u001b[39mfiles, \u001b[38;5;28mself\u001b[39m\u001b[38;5;241m.\u001b[39mafterheader, \u001b[38;5;28mself\u001b[39m\u001b[38;5;241m.\u001b[39mheader, \u001b[38;5;28mself\u001b[39m\u001b[38;5;241m.\u001b[39mmp)\n",
      "File \u001b[1;32mc:\\Users\\cherr\\miniconda3\\Lib\\site-packages\\py7zr\\py7zr.py:443\u001b[0m, in \u001b[0;36mSevenZipFile._real_get_contents\u001b[1;34m(self, password)\u001b[0m\n\u001b[0;32m    441\u001b[0m \u001b[38;5;28;01mif\u001b[39;00m \u001b[38;5;28mself\u001b[39m\u001b[38;5;241m.\u001b[39msig_header\u001b[38;5;241m.\u001b[39mnextheadercrc \u001b[38;5;241m!=\u001b[39m calculate_crc32(buffer\u001b[38;5;241m.\u001b[39mgetvalue()):\n\u001b[0;32m    442\u001b[0m     \u001b[38;5;28;01mraise\u001b[39;00m Bad7zFile(\u001b[38;5;124m\"\u001b[39m\u001b[38;5;124minvalid header data\u001b[39m\u001b[38;5;124m\"\u001b[39m)\n\u001b[1;32m--> 443\u001b[0m header \u001b[38;5;241m=\u001b[39m \u001b[43mHeader\u001b[49m\u001b[38;5;241;43m.\u001b[39;49m\u001b[43mretrieve\u001b[49m\u001b[43m(\u001b[49m\u001b[38;5;28;43mself\u001b[39;49m\u001b[38;5;241;43m.\u001b[39;49m\u001b[43mfp\u001b[49m\u001b[43m,\u001b[49m\u001b[43m \u001b[49m\u001b[43mbuffer\u001b[49m\u001b[43m,\u001b[49m\u001b[43m \u001b[49m\u001b[38;5;28;43mself\u001b[39;49m\u001b[38;5;241;43m.\u001b[39;49m\u001b[43mafterheader\u001b[49m\u001b[43m,\u001b[49m\u001b[43m \u001b[49m\u001b[43mpassword\u001b[49m\u001b[43m)\u001b[49m\n\u001b[0;32m    444\u001b[0m \u001b[38;5;28;01mif\u001b[39;00m header \u001b[38;5;129;01mis\u001b[39;00m \u001b[38;5;28;01mNone\u001b[39;00m:\n\u001b[0;32m    445\u001b[0m     \u001b[38;5;28;01mreturn\u001b[39;00m\n",
      "File \u001b[1;32mc:\\Users\\cherr\\miniconda3\\Lib\\site-packages\\py7zr\\archiveinfo.py:918\u001b[0m, in \u001b[0;36mHeader.retrieve\u001b[1;34m(cls, fp, buffer, start_pos, password)\u001b[0m\n\u001b[0;32m    915\u001b[0m \u001b[38;5;129m@classmethod\u001b[39m\n\u001b[0;32m    916\u001b[0m \u001b[38;5;28;01mdef\u001b[39;00m \u001b[38;5;21mretrieve\u001b[39m(\u001b[38;5;28mcls\u001b[39m, fp: BinaryIO, buffer: BytesIO, start_pos: \u001b[38;5;28mint\u001b[39m, password\u001b[38;5;241m=\u001b[39m\u001b[38;5;28;01mNone\u001b[39;00m):\n\u001b[0;32m    917\u001b[0m     obj \u001b[38;5;241m=\u001b[39m \u001b[38;5;28mcls\u001b[39m()\n\u001b[1;32m--> 918\u001b[0m     \u001b[43mobj\u001b[49m\u001b[38;5;241;43m.\u001b[39;49m\u001b[43m_read\u001b[49m\u001b[43m(\u001b[49m\u001b[43mfp\u001b[49m\u001b[43m,\u001b[49m\u001b[43m \u001b[49m\u001b[43mbuffer\u001b[49m\u001b[43m,\u001b[49m\u001b[43m \u001b[49m\u001b[43mstart_pos\u001b[49m\u001b[43m,\u001b[49m\u001b[43m \u001b[49m\u001b[43mpassword\u001b[49m\u001b[43m)\u001b[49m\n\u001b[0;32m    919\u001b[0m     \u001b[38;5;28;01mreturn\u001b[39;00m obj\n",
      "File \u001b[1;32mc:\\Users\\cherr\\miniconda3\\Lib\\site-packages\\py7zr\\archiveinfo.py:955\u001b[0m, in \u001b[0;36mHeader._read\u001b[1;34m(self, fp, buffer, start_pos, password)\u001b[0m\n\u001b[0;32m    953\u001b[0m folder_data \u001b[38;5;241m=\u001b[39m \u001b[38;5;28mbytearray\u001b[39m()\n\u001b[0;32m    954\u001b[0m \u001b[38;5;28;01mwhile\u001b[39;00m remaining \u001b[38;5;241m>\u001b[39m \u001b[38;5;241m0\u001b[39m:\n\u001b[1;32m--> 955\u001b[0m     folder_data \u001b[38;5;241m+\u001b[39m\u001b[38;5;241m=\u001b[39m \u001b[43mdecompressor\u001b[49m\u001b[38;5;241;43m.\u001b[39;49m\u001b[43mdecompress\u001b[49m\u001b[43m(\u001b[49m\u001b[43mfp\u001b[49m\u001b[43m,\u001b[49m\u001b[43m \u001b[49m\u001b[43mmax_length\u001b[49m\u001b[38;5;241;43m=\u001b[39;49m\u001b[43mremaining\u001b[49m\u001b[43m)\u001b[49m\n\u001b[0;32m    956\u001b[0m     remaining \u001b[38;5;241m=\u001b[39m uncompressed_size \u001b[38;5;241m-\u001b[39m \u001b[38;5;28mlen\u001b[39m(folder_data)\n\u001b[0;32m    957\u001b[0m \u001b[38;5;28mself\u001b[39m\u001b[38;5;241m.\u001b[39msize \u001b[38;5;241m+\u001b[39m\u001b[38;5;241m=\u001b[39m compressed_size\n",
      "File \u001b[1;32mc:\\Users\\cherr\\miniconda3\\Lib\\site-packages\\py7zr\\compressor.py:721\u001b[0m, in \u001b[0;36mSevenZipDecompressor.decompress\u001b[1;34m(self, fp, max_length)\u001b[0m\n\u001b[0;32m    719\u001b[0m     \u001b[38;5;28mself\u001b[39m\u001b[38;5;241m.\u001b[39m_unused \u001b[38;5;241m=\u001b[39m \u001b[38;5;28mbytearray\u001b[39m()\n\u001b[0;32m    720\u001b[0m \u001b[38;5;28;01melse\u001b[39;00m:\n\u001b[1;32m--> 721\u001b[0m     tmp \u001b[38;5;241m=\u001b[39m \u001b[38;5;28;43mself\u001b[39;49m\u001b[38;5;241;43m.\u001b[39;49m\u001b[43m_decompress\u001b[49m\u001b[43m(\u001b[49m\u001b[43mdata\u001b[49m\u001b[43m,\u001b[49m\u001b[43m \u001b[49m\u001b[43mmax_length\u001b[49m\u001b[43m)\u001b[49m\n\u001b[0;32m    722\u001b[0m \u001b[38;5;28;01mif\u001b[39;00m current_buf_len \u001b[38;5;241m+\u001b[39m \u001b[38;5;28mlen\u001b[39m(tmp) \u001b[38;5;241m<\u001b[39m\u001b[38;5;241m=\u001b[39m max_length:\n\u001b[0;32m    723\u001b[0m     res \u001b[38;5;241m=\u001b[39m \u001b[38;5;28mself\u001b[39m\u001b[38;5;241m.\u001b[39m_buf[\u001b[38;5;28mself\u001b[39m\u001b[38;5;241m.\u001b[39m_pos :] \u001b[38;5;241m+\u001b[39m tmp\n",
      "File \u001b[1;32mc:\\Users\\cherr\\miniconda3\\Lib\\site-packages\\py7zr\\compressor.py:677\u001b[0m, in \u001b[0;36mSevenZipDecompressor._decompress\u001b[1;34m(self, data, max_length)\u001b[0m\n\u001b[0;32m    675\u001b[0m \u001b[38;5;28;01mfor\u001b[39;00m i, decompressor \u001b[38;5;129;01min\u001b[39;00m \u001b[38;5;28menumerate\u001b[39m(\u001b[38;5;28mself\u001b[39m\u001b[38;5;241m.\u001b[39mchain):\n\u001b[0;32m    676\u001b[0m     \u001b[38;5;28;01mif\u001b[39;00m \u001b[38;5;28mself\u001b[39m\u001b[38;5;241m.\u001b[39m_unpacked[i] \u001b[38;5;241m<\u001b[39m \u001b[38;5;28mself\u001b[39m\u001b[38;5;241m.\u001b[39m_unpacksizes[i]:\n\u001b[1;32m--> 677\u001b[0m         data \u001b[38;5;241m=\u001b[39m \u001b[43mdecompressor\u001b[49m\u001b[38;5;241;43m.\u001b[39;49m\u001b[43mdecompress\u001b[49m\u001b[43m(\u001b[49m\u001b[43mdata\u001b[49m\u001b[43m,\u001b[49m\u001b[43m \u001b[49m\u001b[43mmax_length\u001b[49m\u001b[43m)\u001b[49m\n\u001b[0;32m    678\u001b[0m         \u001b[38;5;28mself\u001b[39m\u001b[38;5;241m.\u001b[39m_unpacked[i] \u001b[38;5;241m+\u001b[39m\u001b[38;5;241m=\u001b[39m \u001b[38;5;28mlen\u001b[39m(data)\n\u001b[0;32m    679\u001b[0m     \u001b[38;5;28;01melif\u001b[39;00m \u001b[38;5;28mlen\u001b[39m(data) \u001b[38;5;241m==\u001b[39m \u001b[38;5;241m0\u001b[39m:\n",
      "File \u001b[1;32mc:\\Users\\cherr\\miniconda3\\Lib\\site-packages\\py7zr\\compressor.py:582\u001b[0m, in \u001b[0;36mLZMA1Decompressor.decompress\u001b[1;34m(self, data, max_length)\u001b[0m\n\u001b[0;32m    581\u001b[0m \u001b[38;5;28;01mdef\u001b[39;00m \u001b[38;5;21mdecompress\u001b[39m(\u001b[38;5;28mself\u001b[39m, data: Union[\u001b[38;5;28mbytes\u001b[39m, \u001b[38;5;28mbytearray\u001b[39m, \u001b[38;5;28mmemoryview\u001b[39m], max_length: \u001b[38;5;28mint\u001b[39m \u001b[38;5;241m=\u001b[39m \u001b[38;5;241m-\u001b[39m\u001b[38;5;241m1\u001b[39m) \u001b[38;5;241m-\u001b[39m\u001b[38;5;241m>\u001b[39m \u001b[38;5;28mbytes\u001b[39m:\n\u001b[1;32m--> 582\u001b[0m     \u001b[38;5;28;01mreturn\u001b[39;00m \u001b[38;5;28;43mself\u001b[39;49m\u001b[38;5;241;43m.\u001b[39;49m\u001b[43m_decompressor\u001b[49m\u001b[38;5;241;43m.\u001b[39;49m\u001b[43mdecompress\u001b[49m\u001b[43m(\u001b[49m\u001b[43mdata\u001b[49m\u001b[43m,\u001b[49m\u001b[43m \u001b[49m\u001b[43mmax_length\u001b[49m\u001b[43m)\u001b[49m\n",
      "\u001b[1;31mLZMAError\u001b[0m: Corrupt input data"
     ]
    }
   ],
   "source": [
    "with py7zr.SevenZipFile('cherr.7z', mode='r', password='13') as z:\n",
    "    z.extractall()\n"
   ]
  },
  {
   "cell_type": "code",
   "execution_count": null,
   "metadata": {},
   "outputs": [],
   "source": []
  }
 ],
 "metadata": {
  "kernelspec": {
   "display_name": "base",
   "language": "python",
   "name": "python3"
  },
  "language_info": {
   "codemirror_mode": {
    "name": "ipython",
    "version": 3
   },
   "file_extension": ".py",
   "mimetype": "text/x-python",
   "name": "python",
   "nbconvert_exporter": "python",
   "pygments_lexer": "ipython3",
   "version": "3.12.4"
  }
 },
 "nbformat": 4,
 "nbformat_minor": 2
}
