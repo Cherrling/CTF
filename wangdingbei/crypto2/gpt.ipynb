{
 "cells": [
  {
   "cell_type": "code",
   "execution_count": 1,
   "metadata": {},
   "outputs": [
    {
     "name": "stdout",
     "output_type": "stream",
     "text": [
      "Recovered dA: 93882760184782400275264380686493549386344432241221804073319563778952738456241\n"
     ]
    }
   ],
   "source": [
    "from gmpy2 import invert\n",
    "\n",
    "# 椭圆曲线的阶数\n",
    "n = 0xfffffffffffffffffffffffffffffffebaaedce6af48a03bbfd25e8cd0364141\n",
    "\n",
    "# 已知参数\n",
    "r1 = 68097957214892959097808634206491566533643222966619139257346810421081585723930\n",
    "r2 = 68097957214892959097808634206491566533643222966619139257346810421081585723930\n",
    "s1 = 67249409472936638291163196053877339220525780634461864450594029472181758074828\n",
    "s2 = 73373457041635669316699455116837076942349235043285345596412317434825715497785\n",
    "z1 = 80195815881183635999191380380485539364733792579032143197993380599095251892429\n",
    "z2 = 3634916156299659718916511729962752254806535817011719083804498430258130628828\n",
    "\n",
    "# 计算 dA\n",
    "numerator = (s1 * z2 - s2 * z1) % n\n",
    "denominator = (r1 * s2 - r2 * s1) % n\n",
    "dA = (numerator * invert(denominator, n)) % n\n",
    "\n",
    "print(\"Recovered dA:\", dA)\n"
   ]
  },
  {
   "cell_type": "code",
   "execution_count": 4,
   "metadata": {},
   "outputs": [
    {
     "name": "stdout",
     "output_type": "stream",
     "text": [
      "Decrypted victory encrypted flag: SDSRDO{6F0PAA686M480WU0EN9143H85P42N046}\n",
      "Recovered flag: WDFLAG{6D0AEA686E480CF0EA9143B85A42A046}\n"
     ]
    }
   ],
   "source": [
    "import binascii\n",
    "from hashlib import sha256\n",
    "from Crypto.Cipher import AES\n",
    "from Crypto.Util.Padding import unpad\n",
    "from Crypto.Util.number import long_to_bytes\n",
    "\n",
    "# 使用之前恢复的 dA 计算 AES 密钥\n",
    "key = sha256(long_to_bytes(dA)).digest()\n",
    "\n",
    "# 加载已知的密文（在加密输出中）\n",
    "encrypted_flag_hex = \"507be52e0721bba75c9dc23180a78de9af0cf21842dd27e16ae27b43de0e99b5a6bf661ef5ebf56d9d7bf9c6ed207a9d753aa94adfa51cbc3d4cb234eb3f177d\"\n",
    "encrypted_flag = binascii.unhexlify(encrypted_flag_hex)\n",
    "\n",
    "# 提取初始化向量（IV）和密文\n",
    "iv = encrypted_flag[:16]\n",
    "ciphertext = encrypted_flag[16:]\n",
    "\n",
    "# 使用AES CBC模式解密\n",
    "cipher = AES.new(key, AES.MODE_CBC, iv)\n",
    "decrypted_victory_encrypted_flag = unpad(cipher.decrypt(ciphertext), AES.block_size)\n",
    "\n",
    "# 将 decrypted_victory_encrypted_flag 转换为字符串\n",
    "decrypted_victory_encrypted_flag = decrypted_victory_encrypted_flag.decode()\n",
    "print(\"Decrypted victory encrypted flag:\", decrypted_victory_encrypted_flag)\n",
    "# 解密 victory_encrypted_flag（维吉尼亚加密的逆过程）\n",
    "def victory_decrypt(ciphertext, key):\n",
    "    key = key.upper()\n",
    "    key_length = len(key)\n",
    "    plaintext = ''\n",
    "\n",
    "    for i, char in enumerate(ciphertext):\n",
    "        if char.isalpha():\n",
    "            shift = ord(key[i % key_length]) - ord('A')\n",
    "            decrypted_char = chr((ord(char) - ord('A') - shift + 26) % 26 + ord('A'))\n",
    "            plaintext += decrypted_char\n",
    "        else:\n",
    "            plaintext += char\n",
    "\n",
    "    return plaintext\n",
    "\n",
    "# 定义 victory_key\n",
    "victory_key = \"WANGDINGCUP\"\n",
    "\n",
    "# 使用 victory_key 对 decrypted_victory_encrypted_flag 解密\n",
    "flag = victory_decrypt(decrypted_victory_encrypted_flag, victory_key)\n",
    "\n",
    "print(\"Recovered flag:\", flag)\n"
   ]
  }
 ],
 "metadata": {
  "kernelspec": {
   "display_name": "Python 3",
   "language": "python",
   "name": "python3"
  },
  "language_info": {
   "codemirror_mode": {
    "name": "ipython",
    "version": 3
   },
   "file_extension": ".py",
   "mimetype": "text/x-python",
   "name": "python",
   "nbconvert_exporter": "python",
   "pygments_lexer": "ipython3",
   "version": "3.12.5"
  }
 },
 "nbformat": 4,
 "nbformat_minor": 2
}
