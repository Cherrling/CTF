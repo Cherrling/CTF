{
 "cells": [
  {
   "cell_type": "code",
   "execution_count": 1,
   "metadata": {},
   "outputs": [
    {
     "name": "stdout",
     "output_type": "stream",
     "text": [
      "端口号已输出到 ports.txt\n"
     ]
    }
   ],
   "source": [
    "# 定义输出文件名\n",
    "output_file = 'ports.txt'\n",
    "\n",
    "# 打开文件以写入\n",
    "with open(output_file, 'w') as file:\n",
    "    # 遍历常用端口范围\n",
    "    for port in range(1, 10000):\n",
    "        file.write(f\"{port}\\n\")  # 每个端口号后面加换行符\n",
    "\n",
    "print(f\"端口号已输出到 {output_file}\")\n"
   ]
  }
 ],
 "metadata": {
  "kernelspec": {
   "display_name": "Python 3",
   "language": "python",
   "name": "python3"
  },
  "language_info": {
   "codemirror_mode": {
    "name": "ipython",
    "version": 3
   },
   "file_extension": ".py",
   "mimetype": "text/x-python",
   "name": "python",
   "nbconvert_exporter": "python",
   "pygments_lexer": "ipython3",
   "version": "3.12.5"
  }
 },
 "nbformat": 4,
 "nbformat_minor": 2
}
